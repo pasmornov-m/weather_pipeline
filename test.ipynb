{
 "cells": [
  {
   "cell_type": "code",
   "execution_count": 6,
   "id": "22886943",
   "metadata": {},
   "outputs": [
    {
     "name": "stdout",
     "output_type": "stream",
     "text": [
      "The autoreload extension is already loaded. To reload it, use:\n",
      "  %reload_ext autoreload\n"
     ]
    }
   ],
   "source": [
    "%load_ext autoreload\n",
    "%autoreload 2"
   ]
  },
  {
   "cell_type": "code",
   "execution_count": 2,
   "id": "059834c8",
   "metadata": {},
   "outputs": [],
   "source": [
    "from utils.writer import save_offset_to_minio\n",
    "from utils.reader import load_offset_from_minio\n",
    "from utils.kafka_processing import fetch_kafka_data"
   ]
  },
  {
   "cell_type": "code",
   "execution_count": 3,
   "id": "3fd00b9d",
   "metadata": {},
   "outputs": [
    {
     "name": "stdout",
     "output_type": "stream",
     "text": [
      "MinIO bucket 'temp' не существует\n"
     ]
    }
   ],
   "source": [
    "offset = load_offset_from_minio()"
   ]
  },
  {
   "cell_type": "code",
   "execution_count": 9,
   "id": "fdc8fd19",
   "metadata": {},
   "outputs": [
    {
     "name": "stdout",
     "output_type": "stream",
     "text": [
      "[]\n"
     ]
    }
   ],
   "source": [
    "last_offset = fetch_kafka_data(offset)"
   ]
  }
 ],
 "metadata": {
  "kernelspec": {
   "display_name": "Python 3 (ipykernel)",
   "language": "python",
   "name": "python3"
  },
  "language_info": {
   "codemirror_mode": {
    "name": "ipython",
    "version": 3
   },
   "file_extension": ".py",
   "mimetype": "text/x-python",
   "name": "python",
   "nbconvert_exporter": "python",
   "pygments_lexer": "ipython3",
   "version": "3.10.12"
  }
 },
 "nbformat": 4,
 "nbformat_minor": 5
}
