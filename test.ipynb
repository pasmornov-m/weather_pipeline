{
 "cells": [
  {
   "cell_type": "code",
   "execution_count": 1,
   "id": "22886943",
   "metadata": {},
   "outputs": [],
   "source": [
    "%load_ext autoreload\n",
    "%autoreload 2"
   ]
  },
  {
   "cell_type": "code",
   "execution_count": 20,
   "id": "059834c8",
   "metadata": {},
   "outputs": [],
   "source": [
    "from utils.writer import save_offset_to_minio, write_to_parquet, write_to_postgres\n",
    "from utils.reader import load_offset_from_minio\n",
    "from confluent_kafka import Consumer\n",
    "from utils.fetch_data import fetch_kafka_data\n",
    "from utils.transform_data import transform_data\n",
    "from clients.spark_client import create_spark_session\n",
    "from db_utils.check_gp import create_db_schema_table\n",
    "from clients.postgres_client import get_postgres_properties\n",
    "from config import MINIO_RAW_PATH, MINIO_PROCESSED_PATH, DB_TABLE"
   ]
  },
  {
   "cell_type": "code",
   "execution_count": 41,
   "id": "7e1c0eed",
   "metadata": {},
   "outputs": [
    {
     "name": "stdout",
     "output_type": "stream",
     "text": [
      "База данных weather уже существует.\n",
      "Схема weather уже существует.\n",
      "Схема и таблица успешно созданы.\n"
     ]
    }
   ],
   "source": [
    "create_db_schema_table()"
   ]
  },
  {
   "cell_type": "code",
   "execution_count": 42,
   "id": "d8f58694",
   "metadata": {},
   "outputs": [
    {
     "name": "stdout",
     "output_type": "stream",
     "text": [
      "7\n"
     ]
    }
   ],
   "source": [
    "offset = load_offset_from_minio()\n",
    "print(offset)"
   ]
  },
  {
   "cell_type": "code",
   "execution_count": 10,
   "id": "45c0b525",
   "metadata": {},
   "outputs": [],
   "source": [
    "spark = create_spark_session()\n"
   ]
  },
  {
   "cell_type": "code",
   "execution_count": null,
   "id": "90e6cd4d",
   "metadata": {},
   "outputs": [
    {
     "name": "stdout",
     "output_type": "stream",
     "text": [
      "[{'country': 'RU', 'city': 'Moscow', 'timestamp': '2025-06-04T13:55:55', 'temperature': 296.29, 'feels_like': 295.7, 'pressure': 1012, 'humidity': 40, 'weather_main': 'Clouds', 'weather_description': 'overcast clouds', 'wind_speed': 4.94, 'wind_deg': 343, 'clouds': 100}, {'country': 'RU', 'city': 'Moscow', 'timestamp': '2025-06-04T14:07:44', 'temperature': 296.24, 'feels_like': 295.65, 'pressure': 1012, 'humidity': 40, 'weather_main': 'Clouds', 'weather_description': 'overcast clouds', 'wind_speed': 4.94, 'wind_deg': 343, 'clouds': 100}, {'country': 'RU', 'city': 'Moscow', 'timestamp': '2025-06-04T14:07:44', 'temperature': 296.24, 'feels_like': 295.65, 'pressure': 1012, 'humidity': 40, 'weather_main': 'Clouds', 'weather_description': 'overcast clouds', 'wind_speed': 4.94, 'wind_deg': 343, 'clouds': 100}, {'country': 'RU', 'city': 'Moscow', 'timestamp': '2025-06-04T14:28:27', 'temperature': 295.04, 'feels_like': 294.25, 'pressure': 1012, 'humidity': 37, 'weather_main': 'Clouds', 'weather_description': 'overcast clouds', 'wind_speed': 4.94, 'wind_deg': 343, 'clouds': 100}, {'country': 'RU', 'city': 'Moscow', 'timestamp': '2025-06-04T14:38:27', 'temperature': 295.04, 'feels_like': 294.3, 'pressure': 1013, 'humidity': 39, 'weather_main': 'Clouds', 'weather_description': 'overcast clouds', 'wind_speed': 4.06, 'wind_deg': 344, 'clouds': 100}, {'country': 'RU', 'city': 'Moscow', 'timestamp': '2025-06-04T14:44:07', 'temperature': 295.04, 'feels_like': 294.3, 'pressure': 1013, 'humidity': 39, 'weather_main': 'Clouds', 'weather_description': 'overcast clouds', 'wind_speed': 4.06, 'wind_deg': 344, 'clouds': 100}, {'country': 'RU', 'city': 'Moscow', 'timestamp': '2025-06-04T14:44:07', 'temperature': 295.04, 'feels_like': 294.3, 'pressure': 1013, 'humidity': 39, 'weather_main': 'Clouds', 'weather_description': 'overcast clouds', 'wind_speed': 4.06, 'wind_deg': 344, 'clouds': 100}, {'country': 'RU', 'city': 'Moscow', 'timestamp': '2025-06-04T15:03:52', 'temperature': 294.66, 'feels_like': 293.88, 'pressure': 1012, 'humidity': 39, 'weather_main': 'Clouds', 'weather_description': 'overcast clouds', 'wind_speed': 4.06, 'wind_deg': 344, 'clouds': 100}]\n"
     ]
    },
    {
     "name": "stderr",
     "output_type": "stream",
     "text": [
      "                                                                                \r"
     ]
    }
   ],
   "source": [
    "last_offset = fetch_kafka_data(spark, MINIO_RAW_PATH, offset)\n",
    "save_offset_to_minio(last_offset)\n",
    "print(last_offset)"
   ]
  },
  {
   "cell_type": "code",
   "execution_count": 45,
   "id": "c3a6e490",
   "metadata": {},
   "outputs": [
    {
     "name": "stderr",
     "output_type": "stream",
     "text": [
      "                                                                                \r"
     ]
    }
   ],
   "source": [
    "df_transform = transform_data(spark, MINIO_RAW_PATH, MINIO_PROCESSED_PATH)\n",
    "write_to_parquet(spark, df_transform, MINIO_PROCESSED_PATH)\n"
   ]
  },
  {
   "cell_type": "code",
   "execution_count": 46,
   "id": "cccd2934",
   "metadata": {},
   "outputs": [
    {
     "name": "stderr",
     "output_type": "stream",
     "text": [
      "                                                                                \r"
     ]
    }
   ],
   "source": [
    "properties = get_postgres_properties()\n",
    "write_to_postgres(df_transform, DB_TABLE, properties)"
   ]
  }
 ],
 "metadata": {
  "kernelspec": {
   "display_name": "Python 3 (ipykernel)",
   "language": "python",
   "name": "python3"
  },
  "language_info": {
   "codemirror_mode": {
    "name": "ipython",
    "version": 3
   },
   "file_extension": ".py",
   "mimetype": "text/x-python",
   "name": "python",
   "nbconvert_exporter": "python",
   "pygments_lexer": "ipython3",
   "version": "3.10.12"
  }
 },
 "nbformat": 4,
 "nbformat_minor": 5
}
