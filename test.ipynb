{
 "cells": [
  {
   "cell_type": "code",
   "execution_count": 1,
   "id": "22886943",
   "metadata": {},
   "outputs": [],
   "source": [
    "%load_ext autoreload\n",
    "%autoreload 2"
   ]
  },
  {
   "cell_type": "code",
   "execution_count": 2,
   "id": "059834c8",
   "metadata": {},
   "outputs": [],
   "source": [
    "from utils.writer import save_offset_to_minio, write_to_parquet, write_to_postgres\n",
    "from utils.reader import load_offset_from_minio, read_from_parquet\n",
    "from utils.fetch_data import fetch_kafka_data\n",
    "from utils.transform_data import transform_data\n",
    "from clients.spark_client import create_spark_session\n",
    "from db_utils.check_gp import create_db_schema_table\n",
    "from clients.postgres_client import get_postgres_properties\n",
    "from config import MINIO_RAW_PATH, MINIO_PROCESSED_PATH, DB_TABLE"
   ]
  },
  {
   "cell_type": "code",
   "execution_count": 3,
   "id": "7e1c0eed",
   "metadata": {},
   "outputs": [
    {
     "name": "stdout",
     "output_type": "stream",
     "text": [
      "База данных weather уже существует.\n",
      "Схема weather уже существует.\n",
      "Схема и таблица успешно созданы.\n"
     ]
    }
   ],
   "source": [
    "create_db_schema_table()"
   ]
  },
  {
   "cell_type": "markdown",
   "id": "6503971b",
   "metadata": {},
   "source": [
    "!!! RESET OFFSET VALUE"
   ]
  },
  {
   "cell_type": "code",
   "execution_count": 10,
   "id": "420d7288",
   "metadata": {},
   "outputs": [],
   "source": [
    "save_offset_to_minio(-1)\n"
   ]
  },
  {
   "cell_type": "code",
   "execution_count": 4,
   "id": "d8f58694",
   "metadata": {},
   "outputs": [
    {
     "name": "stdout",
     "output_type": "stream",
     "text": [
      "29\n"
     ]
    }
   ],
   "source": [
    "offset = load_offset_from_minio()\n",
    "print(offset)"
   ]
  },
  {
   "cell_type": "code",
   "execution_count": 7,
   "id": "45c0b525",
   "metadata": {},
   "outputs": [],
   "source": [
    "spark = create_spark_session()\n"
   ]
  },
  {
   "cell_type": "code",
   "execution_count": 6,
   "id": "90e6cd4d",
   "metadata": {},
   "outputs": [
    {
     "name": "stdout",
     "output_type": "stream",
     "text": [
      "[{'country': 'RU', 'city': 'Moscow', 'timestamp': '2025-07-31T16:16:15', 'temperature': 301.48, 'feels_like': 301.43, 'pressure': 1009, 'humidity': 44, 'weather_main': 'Clouds', 'weather_description': 'broken clouds', 'wind_speed': 4.71, 'wind_deg': 119, 'clouds': 63}, {'country': 'RU', 'city': 'Moscow', 'timestamp': '2025-07-31T16:29:21', 'temperature': 301.2, 'feels_like': 301.23, 'pressure': 1009, 'humidity': 45, 'weather_main': 'Clouds', 'weather_description': 'broken clouds', 'wind_speed': 4.71, 'wind_deg': 119, 'clouds': 63}, {'country': 'RU', 'city': 'Moscow', 'timestamp': '2025-07-31T16:29:21', 'temperature': 301.2, 'feels_like': 301.23, 'pressure': 1009, 'humidity': 45, 'weather_main': 'Clouds', 'weather_description': 'broken clouds', 'wind_speed': 4.71, 'wind_deg': 119, 'clouds': 63}, {'country': 'RU', 'city': 'Moscow', 'timestamp': '2025-07-31T16:45:32', 'temperature': 300.41, 'feels_like': 300.56, 'pressure': 1009, 'humidity': 46, 'weather_main': 'Clouds', 'weather_description': 'broken clouds', 'wind_speed': 3.19, 'wind_deg': 141, 'clouds': 66}, {'country': 'RU', 'city': 'Moscow', 'timestamp': '2025-08-06T09:26:29', 'temperature': 296.39, 'feels_like': 296.18, 'pressure': 1014, 'humidity': 54, 'weather_main': 'Clear', 'weather_description': 'clear sky', 'wind_speed': 4.13, 'wind_deg': 281, 'clouds': 0}, {'country': 'RU', 'city': 'Moscow', 'timestamp': '2025-08-06T09:37:09', 'temperature': 296.39, 'feels_like': 296.1, 'pressure': 1014, 'humidity': 51, 'weather_main': 'Clear', 'weather_description': 'clear sky', 'wind_speed': 3.88, 'wind_deg': 279, 'clouds': 1}, {'country': 'RU', 'city': 'Moscow', 'timestamp': '2025-08-06T09:45:48', 'temperature': 297.39, 'feels_like': 297.2, 'pressure': 1014, 'humidity': 51, 'weather_main': 'Clear', 'weather_description': 'clear sky', 'wind_speed': 3.88, 'wind_deg': 279, 'clouds': 1}, {'country': 'RU', 'city': 'Moscow', 'timestamp': '2025-08-06T09:55:52', 'temperature': 297.39, 'feels_like': 297.15, 'pressure': 1014, 'humidity': 49, 'weather_main': 'Clear', 'weather_description': 'clear sky', 'wind_speed': 3.88, 'wind_deg': 279, 'clouds': 1}, {'country': 'RU', 'city': 'Moscow', 'timestamp': '2025-08-06T10:04:16', 'temperature': 299.06, 'feels_like': 299.04, 'pressure': 1014, 'humidity': 51, 'weather_main': 'Clear', 'weather_description': 'clear sky', 'wind_speed': 3.88, 'wind_deg': 279, 'clouds': 1}, {'country': 'RU', 'city': 'Moscow', 'timestamp': '2025-08-06T10:04:16', 'temperature': 299.06, 'feels_like': 299.04, 'pressure': 1014, 'humidity': 51, 'weather_main': 'Clear', 'weather_description': 'clear sky', 'wind_speed': 3.88, 'wind_deg': 279, 'clouds': 1}, {'country': 'RU', 'city': 'Moscow', 'timestamp': '2025-08-06T10:23:22', 'temperature': 299.06, 'feels_like': 299.06, 'pressure': 1014, 'humidity': 52, 'weather_main': 'Clear', 'weather_description': 'clear sky', 'wind_speed': 3.88, 'wind_deg': 279, 'clouds': 1}, {'country': 'RU', 'city': 'Moscow', 'timestamp': '2025-08-06T10:23:22', 'temperature': 299.06, 'feels_like': 299.06, 'pressure': 1014, 'humidity': 52, 'weather_main': 'Clear', 'weather_description': 'clear sky', 'wind_speed': 3.88, 'wind_deg': 279, 'clouds': 1}, {'country': 'RU', 'city': 'Moscow', 'timestamp': '2025-08-06T10:46:34', 'temperature': 299.27, 'feels_like': 299.27, 'pressure': 1013, 'humidity': 49, 'weather_main': 'Clear', 'weather_description': 'clear sky', 'wind_speed': 4, 'wind_deg': 275, 'clouds': 2}, {'country': 'RU', 'city': 'Moscow', 'timestamp': '2025-08-06T10:46:34', 'temperature': 299.27, 'feels_like': 299.27, 'pressure': 1013, 'humidity': 49, 'weather_main': 'Clear', 'weather_description': 'clear sky', 'wind_speed': 4, 'wind_deg': 275, 'clouds': 2}]\n"
     ]
    },
    {
     "name": "stderr",
     "output_type": "stream",
     "text": [
      "25/08/06 14:07:16 WARN MetricsConfig: Cannot locate configuration: tried hadoop-metrics2-s3a-file-system.properties,hadoop-metrics2.properties\n",
      "25/08/06 14:07:25 WARN MemoryManager: Total allocation exceeds 95.00% (1,020,054,720 bytes) of heap memory\n",
      "Scaling row group sizes to 95.00% for 8 writers\n",
      "                                                                                \r"
     ]
    },
    {
     "name": "stdout",
     "output_type": "stream",
     "text": [
      "43\n"
     ]
    }
   ],
   "source": [
    "last_offset = fetch_kafka_data(spark, MINIO_RAW_PATH, offset)\n",
    "save_offset_to_minio(last_offset)\n",
    "print(last_offset)"
   ]
  },
  {
   "cell_type": "code",
   "execution_count": 8,
   "id": "c3a6e490",
   "metadata": {},
   "outputs": [
    {
     "name": "stderr",
     "output_type": "stream",
     "text": [
      "25/08/06 14:10:19 WARN MemoryManager: Total allocation exceeds 95.00% (1,020,054,720 bytes) of heap memory\n",
      "Scaling row group sizes to 95.00% for 8 writers\n",
      "                                                                                \r"
     ]
    }
   ],
   "source": [
    "df_transform = transform_data(spark, MINIO_RAW_PATH, MINIO_PROCESSED_PATH)\n",
    "write_to_parquet(spark, df_transform, MINIO_PROCESSED_PATH)\n"
   ]
  },
  {
   "cell_type": "code",
   "execution_count": 12,
   "id": "77bb4d4b",
   "metadata": {},
   "outputs": [
    {
     "name": "stderr",
     "output_type": "stream",
     "text": [
      "                                                                                \r"
     ]
    }
   ],
   "source": [
    "df_transform_pq = read_from_parquet(spark, MINIO_PROCESSED_PATH)\n",
    "properties = get_postgres_properties()\n",
    "write_to_postgres(df_transform_pq, DB_TABLE, properties)"
   ]
  }
 ],
 "metadata": {
  "kernelspec": {
   "display_name": "Python 3",
   "language": "python",
   "name": "python3"
  },
  "language_info": {
   "codemirror_mode": {
    "name": "ipython",
    "version": 3
   },
   "file_extension": ".py",
   "mimetype": "text/x-python",
   "name": "python",
   "nbconvert_exporter": "python",
   "pygments_lexer": "ipython3",
   "version": "3.10.12"
  }
 },
 "nbformat": 4,
 "nbformat_minor": 5
}
